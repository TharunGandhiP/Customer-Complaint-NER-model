{
 "cells": [
  {
   "cell_type": "code",
   "execution_count": 1,
   "metadata": {},
   "outputs": [],
   "source": [
    "from spacy.tokens import DocBin\n",
    "import spacy \n",
    "import json\n",
    "from tqdm import tqdm\n",
    "import random"
   ]
  },
  {
   "cell_type": "code",
   "execution_count": 2,
   "metadata": {},
   "outputs": [],
   "source": [
    "def load_data(file):\n",
    "    with open (file, \"r\", encoding=\"utf-8\") as f:\n",
    "        data = json.load(f)\n",
    "    return (data)"
   ]
  },
  {
   "cell_type": "code",
   "execution_count": 4,
   "metadata": {},
   "outputs": [],
   "source": [
    "train = load_data(\"data/train.json\")"
   ]
  },
  {
   "cell_type": "code",
   "execution_count": 5,
   "metadata": {},
   "outputs": [],
   "source": [
    "valid = load_data(\"data/valid.json\")"
   ]
  },
  {
   "cell_type": "code",
   "execution_count": 7,
   "metadata": {},
   "outputs": [],
   "source": [
    "train_spacy = load_data(\"data/train_spacy.json\")\n",
    "valid_spacy = load_data(\"data/valid_spacy.json\")"
   ]
  },
  {
   "cell_type": "code",
   "execution_count": 8,
   "metadata": {},
   "outputs": [],
   "source": [
    "# Load the blank SpaCy model\n",
    "nlp = spacy.blank(\"en\")\n",
    "\n",
    "# Function to create training data\n",
    "def create_training(TRAIN_DATA):\n",
    "    db = DocBin()\n",
    "    for text, annot in tqdm(TRAIN_DATA):\n",
    "        doc = nlp.make_doc(text)\n",
    "        ents = []\n",
    "        for start, end, label in annot[\"entities\"]:\n",
    "            span = doc.char_span(start, end, label=label, alignment_mode=\"contract\")\n",
    "            if span is None:\n",
    "                print(f\"Skipping entity in text: {text[start:end]} with label: {label}\")\n",
    "            else:\n",
    "                ents.append(span)\n",
    "        # Filter out overlapping spans\n",
    "        filtered_ents = filter_overlapping_spans(ents)\n",
    "        doc.ents = filtered_ents\n",
    "        db.add(doc)\n",
    "    return db\n",
    "\n",
    "# Function to filter out overlapping spans\n",
    "def filter_overlapping_spans(spans):\n",
    "    if not spans:\n",
    "        return spans\n",
    "    # Sort spans by start and then by end\n",
    "    spans = sorted(spans, key=lambda span: (span.start, span.end))\n",
    "    filtered_spans = [spans[0]]\n",
    "    for span in spans[1:]:\n",
    "        if span.start >= filtered_spans[-1].end:\n",
    "            filtered_spans.append(span)\n",
    "    return filtered_spans"
   ]
  },
  {
   "cell_type": "code",
   "execution_count": 9,
   "metadata": {},
   "outputs": [
    {
     "name": "stderr",
     "output_type": "stream",
     "text": [
      "100%|██████████| 119/119 [00:00<00:00, 1999.34it/s]"
     ]
    },
    {
     "name": "stdout",
     "output_type": "stream",
     "text": [
      "Skipping entity in text: Black with label: COLOR\n",
      "Skipping entity in text: Black with label: COLOR\n",
      "Skipping entity in text: Grey with label: COLOR\n",
      "Skipping entity in text: 2.5 Kg with label: WEIGHT\n",
      "Skipping entity in text: Silver with label: COLOR\n",
      "Skipping entity in text: Black with label: COLOR\n",
      "Skipping entity in text: Silver with label: COLOR\n",
      "Skipping entity in text: Black with label: COLOR\n",
      "Skipping entity in text: Silver with label: COLOR\n",
      "Skipping entity in text: Silver with label: COLOR\n",
      "Skipping entity in text: Silver with label: COLOR\n",
      "Skipping entity in text: Black with label: COLOR\n",
      "Skipping entity in text: Laptop with label: PRODUCT_TYPE\n",
      "Skipping entity in text: 1.74 Kg with label: WEIGHT\n",
      "Skipping entity in text: Black with label: COLOR\n",
      "Skipping entity in text: Black with label: COLOR\n",
      "Skipping entity in text: Black with label: COLOR\n",
      "Skipping entity in text: Black with label: COLOR\n",
      "Skipping entity in text: Black with label: COLOR\n",
      "Skipping entity in text: Black with label: COLOR\n",
      "Skipping entity in text: Black with label: COLOR\n",
      "Skipping entity in text: Silver with label: COLOR\n",
      "Skipping entity in text: Grey with label: COLOR\n",
      "Skipping entity in text: Black with label: COLOR\n",
      "Skipping entity in text: Grey with label: COLOR\n",
      "Skipping entity in text: Black with label: COLOR\n",
      "Skipping entity in text: Silver with label: COLOR\n",
      "Skipping entity in text: 1.65 kg with label: WEIGHT\n",
      "Skipping entity in text: Laptop with label: PRODUCT_TYPE\n",
      "Skipping entity in text: Grey with label: COLOR\n",
      "Skipping entity in text: Black with label: COLOR\n",
      "Skipping entity in text: Silver with label: COLOR\n"
     ]
    },
    {
     "name": "stderr",
     "output_type": "stream",
     "text": [
      "\n"
     ]
    }
   ],
   "source": [
    "train = create_training(train)\n",
    "train.to_disk(\"./data/train.spacy\")"
   ]
  },
  {
   "cell_type": "code",
   "execution_count": 10,
   "metadata": {},
   "outputs": [
    {
     "name": "stderr",
     "output_type": "stream",
     "text": [
      "100%|██████████| 51/51 [00:00<00:00, 2039.86it/s]"
     ]
    },
    {
     "name": "stdout",
     "output_type": "stream",
     "text": [
      "Skipping entity in text: Grey with label: COLOR\n",
      "Skipping entity in text: Grey with label: COLOR\n",
      "Skipping entity in text: Black with label: COLOR\n",
      "Skipping entity in text: Grey with label: COLOR\n",
      "Skipping entity in text: Black with label: COLOR\n",
      "Skipping entity in text: Grey with label: COLOR\n",
      "Skipping entity in text: Black with label: COLOR\n",
      "Skipping entity in text: Laptop with label: PRODUCT_TYPE\n",
      "Skipping entity in text: Silver with label: COLOR\n",
      "Skipping entity in text: Grey with label: COLOR\n",
      "Skipping entity in text: Black with label: COLOR\n",
      "Skipping entity in text: Black with label: COLOR\n",
      "Skipping entity in text: Blue with label: COLOR\n"
     ]
    },
    {
     "name": "stderr",
     "output_type": "stream",
     "text": [
      "\n"
     ]
    }
   ],
   "source": [
    "valid = create_training(valid)\n",
    "valid.to_disk(\"./data/valid.spacy\")"
   ]
  },
  {
   "cell_type": "code",
   "execution_count": 11,
   "metadata": {},
   "outputs": [
    {
     "name": "stderr",
     "output_type": "stream",
     "text": [
      "100%|██████████| 119/119 [00:00<00:00, 4406.99it/s]\n"
     ]
    }
   ],
   "source": [
    "train_spacy = create_training(train_spacy)\n",
    "train_spacy.to_disk(\"./data/train_spacy.spacy\")"
   ]
  },
  {
   "cell_type": "code",
   "execution_count": 12,
   "metadata": {},
   "outputs": [
    {
     "name": "stderr",
     "output_type": "stream",
     "text": [
      "100%|██████████| 51/51 [00:00<00:00, 3644.05it/s]\n"
     ]
    }
   ],
   "source": [
    "valid_spacy = create_training(valid_spacy)\n",
    "valid_spacy.to_disk(\"./data/valid_spacy.spacy\")"
   ]
  }
 ],
 "metadata": {
  "kernelspec": {
   "display_name": "Python 3",
   "language": "python",
   "name": "python3"
  },
  "language_info": {
   "codemirror_mode": {
    "name": "ipython",
    "version": 3
   },
   "file_extension": ".py",
   "mimetype": "text/x-python",
   "name": "python",
   "nbconvert_exporter": "python",
   "pygments_lexer": "ipython3",
   "version": "3.11.9"
  }
 },
 "nbformat": 4,
 "nbformat_minor": 2
}
